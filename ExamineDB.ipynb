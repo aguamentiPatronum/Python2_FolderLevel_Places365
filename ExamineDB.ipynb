{
 "cells": [
  {
   "cell_type": "code",
   "execution_count": 2,
   "id": "6155a750",
   "metadata": {},
   "outputs": [],
   "source": [
    "import pandas as pd\n",
    "import matplotlib.pyplot as plt"
   ]
  },
  {
   "cell_type": "code",
   "execution_count": null,
   "id": "ad25711d",
   "metadata": {},
   "outputs": [],
   "source": [
    "dfFP = pd.read_parquet('FashionPediaSceneClassification.parquet')\n",
    "dfSD = pd.read_parquet('StanfordDogsSceneClassification.parquet')\n",
    "dfLA = pd.read_parquet('LandcoverSceneClassification.parquet')"
   ]
  },
  {
   "cell_type": "code",
   "execution_count": null,
   "id": "6faacce7",
   "metadata": {},
   "outputs": [],
   "source": [
    "print(dfFP.head())\n",
    "print(dfSD.head())\n",
    "print(dfLA.head())"
   ]
  }
 ],
 "metadata": {
  "kernelspec": {
   "display_name": "neo4j_py38",
   "language": "python",
   "name": "neo4j_py38"
  },
  "language_info": {
   "codemirror_mode": {
    "name": "ipython",
    "version": 3
   },
   "file_extension": ".py",
   "mimetype": "text/x-python",
   "name": "python",
   "nbconvert_exporter": "python",
   "pygments_lexer": "ipython3",
   "version": "3.8.12"
  }
 },
 "nbformat": 4,
 "nbformat_minor": 5
}
